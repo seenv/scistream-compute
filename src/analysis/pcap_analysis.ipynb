{
 "cells": [
  {
   "cell_type": "code",
   "execution_count": 2,
   "metadata": {},
   "outputs": [],
   "source": [
    "from scapy.all import rdpcap, TCP, UDP, IP, Ether\n",
    "import pandas as pd\n",
    "import numpy as np\n",
    "from datetime import datetime\n",
    "import pyshark\n",
    "import hashlib\n",
    "import matplotlib.pyplot as plt\n",
    "\n"
   ]
  },
  {
   "cell_type": "code",
   "execution_count": 3,
   "metadata": {},
   "outputs": [
    {
     "name": "stdout",
     "output_type": "stream",
     "text": [
      "Total number of packets: 137077\n"
     ]
    }
   ],
   "source": [
    "pcap = \"swell/test_1/capture.pcap\"\n",
    "packets = rdpcap(pcap)\n",
    "total_packets = len(packets)\n",
    "print(f\"Total number of packets: {total_packets}\")"
   ]
  },
  {
   "cell_type": "code",
   "execution_count": null,
   "metadata": {},
   "outputs": [],
   "source": [
    "#packets[560][TCP].show()\n",
    "#packets[560][TCP].summary()\n",
    "packet = packets[3444]\n",
    "packet.show()\n",
    "#packet.summary()"
   ]
  },
  {
   "cell_type": "code",
   "execution_count": 7,
   "metadata": {},
   "outputs": [],
   "source": [
    "def tcp_flags(flags):\n",
    "    \"\"\"FIN-ACK  AF  0x011 | FIN\tF\t0x01 | SYN-ACK\tAS\t0x012 | SYN\tS\t0x02 | RST\tR\t0x04 | PSH\tP\t0x08 | ACK\tA\t0x10 | URG\tU\t0x20 \"\"\"\n",
    "    if (flags & 0x02) and (flags & 0x10): return 'SYN-ACK'      #start of a connection\n",
    "    if (flags & 0x01) and (flags & 0x10): return 'FIN-ACK'      #end of a connection\n",
    "    if (flags & 0x08) and (flags & 0x10): return 'PSH-ACK'\n",
    "    if flags & 0x01: return 'FIN'\n",
    "    if flags & 0x02: return 'SYN'\n",
    "    if flags & 0x04: return 'RST'\n",
    "    if flags & 0x08: return 'PSH'\n",
    "    if flags & 0x10: return 'ACK'\n",
    "    if flags & 0x20: return 'URG'\n",
    "\n",
    "    return 'UNKNOWN'"
   ]
  },
  {
   "cell_type": "code",
   "execution_count": 8,
   "metadata": {},
   "outputs": [],
   "source": [
    "def hash_payload(payload):\n",
    "    return hashlib.md5(bytes(payload)).hexdigest() if payload else None"
   ]
  },
  {
   "cell_type": "code",
   "execution_count": 9,
   "metadata": {},
   "outputs": [],
   "source": [
    "def retransmission_check(packet):\n",
    "    if IP not in packet or TCP not in packet:\n",
    "        return\n",
    "    \n",
    "    ip = packet[IP]\n",
    "    tcp = packet[TCP]\n",
    "    payload = tcp.payload\n",
    "    payload_len = len(payload)\n",
    "\n",
    "    if payload_len == 0:        # len is zero means no payload like pure ack, syn, etc. so no retransmission\n",
    "        return\n",
    "\n",
    "    key = (ip.src, ip.dst, tcp.sport, tcp.dport, 'TCP') #define a key to be able to check based on it if multiple concurrent connections\n",
    "    if key not in connections:\n",
    "        connections[key] = []\n",
    "\n",
    "    seq = tcp.seq\n",
    "    payload_hash = hash_payload(payload)\n",
    "\n",
    "    covered = connections[key]\n",
    "    match = next(\n",
    "        (item for item in covered if item[0] == seq and item[1] == payload_len),\n",
    "        None\n",
    "    )\n",
    "\n",
    "    if match:\n",
    "        if match[2] == payload_hash:\n",
    "            print(f\"retransmission in {key} at Seq={seq} (Len={payload_len})\")\n",
    "        else:\n",
    "            print(f\"same Seq={seq}, but payload differs - (possible overlap or issue in {key})\")\n",
    "    else:\n",
    "        covered.append((seq, payload_len, payload_hash))"
   ]
  },
  {
   "cell_type": "code",
   "execution_count": 10,
   "metadata": {},
   "outputs": [],
   "source": [
    "ports = [5100, 5101, 5102, 5103, 5104,\n",
    "         5074, 5075, 5076, 5077, 5078]\n",
    "ips = ['128.135.24.118', '128.135.24.120',\n",
    "       '128.135.24.117', '128.135.24.119']\n",
    "stream = []\n",
    "\n",
    "#in retransmission:\n",
    "connections = {}\n",
    "seq_tracker = set()\n",
    "covered = []\n",
    "\n",
    "filtered_pakckets = [p for p in packets if p.haslayer('TCP') and \n",
    "                     (p[TCP].sport in ports or p[TCP].dport in ports) and \n",
    "                     (p[IP].src in ips or p[IP].dst in ips)]\n",
    "#print(len(filtered_pakckets))\n",
    "\n",
    "for packet in filtered_pakckets:\n",
    "    if packet.haslayer(TCP) and packet.haslayer(IP):\n",
    "        entry = {\n",
    "            'Timestamp': datetime.fromtimestamp(float(packet.time)),\n",
    "            'Src_IP': packet[IP].src,\n",
    "            'Dst_IP': packet[IP].dst,\n",
    "            'Src_Port': packet[TCP].sport,\n",
    "            'Dst_Port': packet[TCP].dport,\n",
    "            'Packet_Seq': packet[TCP].seq,\n",
    "            'Packet_Ack': packet[TCP].ack,\n",
    "            'Packet_Size': len(packet[TCP].payload),\n",
    "            'Packet_Flags': tcp_flags(packet[TCP].flags),\n",
    "            'Retransmission': True if packet[TCP].seq in seq_tracker else False,\n",
    "            'Payload_Hash': hash_payload(packet[TCP].payload),\n",
    "        }\n",
    "        \n",
    "        stream.append(entry)"
   ]
  },
  {
   "cell_type": "code",
   "execution_count": 11,
   "metadata": {},
   "outputs": [
    {
     "name": "stdout",
     "output_type": "stream",
     "text": [
      "<class 'pandas.core.frame.DataFrame'>\n",
      "RangeIndex: 11379 entries, 0 to 11378\n",
      "Data columns (total 11 columns):\n",
      " #   Column          Non-Null Count  Dtype         \n",
      "---  ------          --------------  -----         \n",
      " 0   Timestamp       11379 non-null  datetime64[ns]\n",
      " 1   Src_IP          11379 non-null  object        \n",
      " 2   Dst_IP          11379 non-null  object        \n",
      " 3   Src_Port        11379 non-null  int64         \n",
      " 4   Dst_Port        11379 non-null  int64         \n",
      " 5   Packet_Seq      11379 non-null  int64         \n",
      " 6   Packet_Ack      11379 non-null  int64         \n",
      " 7   Packet_Size     11379 non-null  int64         \n",
      " 8   Packet_Flags    11379 non-null  object        \n",
      " 9   Retransmission  11379 non-null  bool          \n",
      " 10  Payload_Hash    8172 non-null   object        \n",
      "dtypes: bool(1), datetime64[ns](1), int64(5), object(4)\n",
      "memory usage: 900.2+ KB\n",
      "None\n",
      "                           Timestamp      Src_Port      Dst_Port  \\\n",
      "count                          11379  11379.000000  11379.000000   \n",
      "mean   2025-03-14 11:46:47.733567488  24233.805783  32182.194217   \n",
      "min       2025-03-14 11:35:10.171452   5100.000000   5100.000000   \n",
      "25%    2025-03-14 11:41:08.375206912   5100.000000   5100.000000   \n",
      "50%    2025-03-14 11:46:47.888755968   5100.000000  51316.000000   \n",
      "75%    2025-03-14 11:52:31.646406912  51316.000000  51316.000000   \n",
      "max       2025-03-14 11:58:20.914479  51316.000000  51316.000000   \n",
      "std                              NaN  22764.687283  22764.687283   \n",
      "\n",
      "         Packet_Seq    Packet_Ack   Packet_Size  \n",
      "count  1.137900e+04  1.137900e+04  11379.000000  \n",
      "mean   7.617884e+08  1.067228e+09   2710.689604  \n",
      "min    1.075160e+07  0.000000e+00      0.000000  \n",
      "25%    2.421817e+07  2.939025e+07      0.000000  \n",
      "50%    3.705704e+07  1.802762e+09   1460.000000  \n",
      "75%    1.802775e+09  1.802785e+09   2920.000000  \n",
      "max    1.802807e+09  1.802807e+09  14924.000000  \n",
      "std    8.750607e+08  8.751525e+08   3974.870436  \n"
     ]
    },
    {
     "data": {
      "text/plain": [
       "Packet_Size\n",
       "0        3207\n",
       "6           9\n",
       "10          1\n",
       "11          1\n",
       "27          1\n",
       "28          1\n",
       "36       1502\n",
       "44          1\n",
       "53          1\n",
       "54          1\n",
       "84          1\n",
       "87         13\n",
       "324         1\n",
       "655        27\n",
       "892        69\n",
       "1223      158\n",
       "1460     2158\n",
       "1547        7\n",
       "1784      234\n",
       "2115       40\n",
       "2352       56\n",
       "2683      622\n",
       "2920      627\n",
       "3244        3\n",
       "3575      109\n",
       "3812       76\n",
       "4143       98\n",
       "4380      184\n",
       "4704        3\n",
       "5035      242\n",
       "5272       59\n",
       "5840      162\n",
       "6495       37\n",
       "6732      204\n",
       "7300      277\n",
       "7387        4\n",
       "7955       27\n",
       "8192       85\n",
       "8760       17\n",
       "8847        1\n",
       "9084        2\n",
       "9415       47\n",
       "9652       13\n",
       "10220      19\n",
       "10307       1\n",
       "10544       4\n",
       "10875      60\n",
       "11112      19\n",
       "11680      70\n",
       "11767       5\n",
       "12004      15\n",
       "12335       1\n",
       "12572       5\n",
       "13140     169\n",
       "13227       1\n",
       "13464     167\n",
       "14032       4\n",
       "14600       2\n",
       "14924     449\n",
       "Name: count, dtype: int64"
      ]
     },
     "execution_count": 11,
     "metadata": {},
     "output_type": "execute_result"
    }
   ],
   "source": [
    "df = pd.DataFrame(stream)\n",
    "\n",
    "df[\"Timestamp\"] = pd.to_datetime(df[\"Timestamp\"], unit=\"ms\")\n",
    "#print(f\"Total retransmissiones: {df['Retransmission'].sum()}\")  \n",
    "#print(df['Timestamp'].is_monotonic_increasing)\n",
    "#print(df.head(10))\n",
    "#print(df.tail())\n",
    "print(df.info())\n",
    "\n",
    "print(df.describe())\n",
    "df['Packet_Size'].value_counts().sort_index(ascending=True)\n",
    "\n"
   ]
  },
  {
   "cell_type": "code",
   "execution_count": 12,
   "metadata": {},
   "outputs": [
    {
     "name": "stdout",
     "output_type": "stream",
     "text": [
      "duration of the streaming: 0 days 00:23:10.742330\n",
      "Total number of packets: 11379\n",
      "Average packet size: 1460.0 Bytes\n",
      "Total size of packets: 30844937 Bytes ~ 29.42 MB ~ 0.03 GB\n"
     ]
    }
   ],
   "source": [
    "total_packets = df['Packet_Size'].count()\n",
    "total_size = df['Packet_Size'].sum()\n",
    "avg_packet_size = df['Packet_Size'].quantile(0.5)\n",
    "#print(df['Packet_Flags'].unique())\n",
    "duration = (df[df['Packet_Flags'] == 'FIN-ACK']['Timestamp'].max()) - (df[df['Packet_Flags'] == 'SYN-ACK']['Timestamp'].min())  #end - start\n",
    "\n",
    "print(f\"duration of the streaming: {duration}\")\n",
    "print(f\"Total number of packets: {total_packets}\")\n",
    "print(f\"Average packet size: {avg_packet_size} Bytes\")\n",
    "print(f\"Total size of packets: {total_size} Bytes ~ {(total_size / (1024 * 1024)):.2f} MB ~ {(total_size / (1024 * 1024 * 1024)):.2f} GB\")\n"
   ]
  },
  {
   "cell_type": "markdown",
   "metadata": {},
   "source": [
    "TODO: get the duration of each frame and compare it to the total!!!"
   ]
  },
  {
   "cell_type": "code",
   "execution_count": 32,
   "metadata": {},
   "outputs": [
    {
     "data": {
      "text/plain": [
       "<Axes: title={'center': 'Packet Size'}, xlabel='Timestamp'>"
      ]
     },
     "execution_count": 32,
     "metadata": {},
     "output_type": "execute_result"
    },
    {
     "data": {
      "image/png": "[encoded data removed]",
      "text/plain": [
       "<Figure size 640x480 with 1 Axes>"
      ]
     },
     "metadata": {},
     "output_type": "display_data"
    }
   ],
   "source": [
    "df.plot(x=\"Timestamp\", y=\"Packet_Size\", title=\"Packet Size\", kind=\"line\")\n",
    "#df.set_index(\"Timestamp\").resample(\"1s\")['Packet_Size'].plot(title=\"Packets per second\", kind=\"line\")"
   ]
  },
  {
   "cell_type": "code",
   "execution_count": 27,
   "metadata": {},
   "outputs": [
    {
     "data": {
      "text/plain": [
       "<Axes: title={'center': 'packet cnt per sec'}, xlabel='Timestamp'>"
      ]
     },
     "execution_count": 27,
     "metadata": {},
     "output_type": "execute_result"
    },
    {
     "data": {
      "image/png": "[encoded data removed]",
      "text/plain": [
       "<Figure size 640x480 with 1 Axes>"
      ]
     },
     "metadata": {},
     "output_type": "display_data"
    }
   ],
   "source": [
    "df.set_index(\"Timestamp\").resample(\"1s\")[\"Packet_Size\"].count().plot(title=\"packet cnt per sec\")    # packet count over time or activity level"
   ]
  },
  {
   "cell_type": "code",
   "execution_count": 26,
   "metadata": {},
   "outputs": [
    {
     "data": {
      "text/plain": [
       "<Axes: title={'center': 'bytes per sec'}, xlabel='Timestamp'>"
      ]
     },
     "execution_count": 26,
     "metadata": {},
     "output_type": "execute_result"
    },
    {
     "data": {
      "image/png": "[encoded data removed]",
      "text/plain": [
       "<Figure size 640x480 with 1 Axes>"
      ]
     },
     "metadata": {},
     "output_type": "display_data"
    }
   ],
   "source": [
    "df.set_index(\"Timestamp\").resample(\"1s\")[\"Packet_Size\"].sum().plot(title=\"bytes per sec\")        # throughput approximation"
   ]
  },
  {
   "cell_type": "code",
   "execution_count": null,
   "metadata": {},
   "outputs": [],
   "source": [
    "df.to_csv(\"stream_packets.csv\", index=False)"
   ]
  }
 ],
 "metadata": {
  "kernelspec": {
   "display_name": "usr",
   "language": "python",
   "name": "python3"
  },
  "language_info": {
   "codemirror_mode": {
    "name": "ipython",
    "version": 3
   },
   "file_extension": ".py",
   "mimetype": "text/x-python",
   "name": "python",
   "nbconvert_exporter": "python",
   "pygments_lexer": "ipython3",
   "version": "3.9.19"
  }
 },
 "nbformat": 4,
 "nbformat_minor": 2
}
